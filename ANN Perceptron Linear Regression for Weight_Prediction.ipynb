{
 "cells": [
  {
   "cell_type": "code",
   "execution_count": 2,
   "metadata": {},
   "outputs": [],
   "source": [
    "import pandas as pd\n",
    "data=pd.read_csv(\"weight-height.csv\")"
   ]
  },
  {
   "cell_type": "code",
   "execution_count": 3,
   "metadata": {},
   "outputs": [
    {
     "data": {
      "text/html": [
       "<div>\n",
       "<style scoped>\n",
       "    .dataframe tbody tr th:only-of-type {\n",
       "        vertical-align: middle;\n",
       "    }\n",
       "\n",
       "    .dataframe tbody tr th {\n",
       "        vertical-align: top;\n",
       "    }\n",
       "\n",
       "    .dataframe thead th {\n",
       "        text-align: right;\n",
       "    }\n",
       "</style>\n",
       "<table border=\"1\" class=\"dataframe\">\n",
       "  <thead>\n",
       "    <tr style=\"text-align: right;\">\n",
       "      <th></th>\n",
       "      <th>Gender</th>\n",
       "      <th>Height</th>\n",
       "      <th>Weight</th>\n",
       "    </tr>\n",
       "  </thead>\n",
       "  <tbody>\n",
       "    <tr>\n",
       "      <th>0</th>\n",
       "      <td>Male</td>\n",
       "      <td>73.847017</td>\n",
       "      <td>241.893563</td>\n",
       "    </tr>\n",
       "    <tr>\n",
       "      <th>1</th>\n",
       "      <td>Male</td>\n",
       "      <td>68.781904</td>\n",
       "      <td>162.310473</td>\n",
       "    </tr>\n",
       "    <tr>\n",
       "      <th>2</th>\n",
       "      <td>Male</td>\n",
       "      <td>74.110105</td>\n",
       "      <td>212.740856</td>\n",
       "    </tr>\n",
       "    <tr>\n",
       "      <th>3</th>\n",
       "      <td>Male</td>\n",
       "      <td>71.730978</td>\n",
       "      <td>220.042470</td>\n",
       "    </tr>\n",
       "    <tr>\n",
       "      <th>4</th>\n",
       "      <td>Male</td>\n",
       "      <td>69.881796</td>\n",
       "      <td>206.349801</td>\n",
       "    </tr>\n",
       "  </tbody>\n",
       "</table>\n",
       "</div>"
      ],
      "text/plain": [
       "  Gender     Height      Weight\n",
       "0   Male  73.847017  241.893563\n",
       "1   Male  68.781904  162.310473\n",
       "2   Male  74.110105  212.740856\n",
       "3   Male  71.730978  220.042470\n",
       "4   Male  69.881796  206.349801"
      ]
     },
     "execution_count": 3,
     "metadata": {},
     "output_type": "execute_result"
    }
   ],
   "source": [
    "data.head()"
   ]
  },
  {
   "cell_type": "code",
   "execution_count": 4,
   "metadata": {},
   "outputs": [
    {
     "data": {
      "text/plain": [
       "Index(['Gender', 'Height', 'Weight'], dtype='object')"
      ]
     },
     "execution_count": 4,
     "metadata": {},
     "output_type": "execute_result"
    }
   ],
   "source": [
    "data.columns"
   ]
  },
  {
   "cell_type": "code",
   "execution_count": 5,
   "metadata": {},
   "outputs": [
    {
     "data": {
      "text/plain": [
       "(10000, 3)"
      ]
     },
     "execution_count": 5,
     "metadata": {},
     "output_type": "execute_result"
    }
   ],
   "source": [
    "data.shape"
   ]
  },
  {
   "cell_type": "code",
   "execution_count": 6,
   "metadata": {},
   "outputs": [],
   "source": [
    "y=data[\"Weight\"]\n",
    "X=data[\"Height\"]"
   ]
  },
  {
   "cell_type": "markdown",
   "metadata": {},
   "source": [
    "### So based on data we decides the following:\n",
    "\n",
    "#### 1.  We have input=1,output=1 and hiden layer=1 i.e 1 neuron is here so it is perceptron\n",
    "#### 2.  We will be using keras for lost/cost function that will work on MSE\n",
    "#### 3.  We will use optimiser (to be discussed)\n",
    "#### 4. We will be using Sequential Model of Keras (to be discussed)"
   ]
  },
  {
   "cell_type": "code",
   "execution_count": 7,
   "metadata": {},
   "outputs": [
    {
     "name": "stderr",
     "output_type": "stream",
     "text": [
      "Using TensorFlow backend.\n"
     ]
    }
   ],
   "source": [
    "from keras.models import Sequential   #importing model of keras"
   ]
  },
  {
   "cell_type": "code",
   "execution_count": 8,
   "metadata": {},
   "outputs": [],
   "source": [
    "from keras.layers import Dense    # for hidden layer"
   ]
  },
  {
   "cell_type": "code",
   "execution_count": 9,
   "metadata": {},
   "outputs": [],
   "source": [
    "from keras.optimizers import Adam    # optimiser"
   ]
  },
  {
   "cell_type": "markdown",
   "metadata": {},
   "source": [
    "## model creation"
   ]
  },
  {
   "cell_type": "code",
   "execution_count": 10,
   "metadata": {},
   "outputs": [],
   "source": [
    "model=Sequential()  "
   ]
  },
  {
   "cell_type": "markdown",
   "metadata": {},
   "source": [
    "## structuring model"
   ]
  },
  {
   "cell_type": "code",
   "execution_count": 11,
   "metadata": {},
   "outputs": [],
   "source": [
    "model.add(Dense(units=1, input_shape=(1,) )) # add hidden layers\n",
    "\n",
    "\n",
    "# if want more run this that much time\n",
    "\n",
    "# dense=hwo many hidden layer\n",
    "# units=no.of outputs from this layer\n",
    "# input_shape=no.of inputs features in this layer\n",
    "# activation not mentioned then by default it is a linear activation function\n"
   ]
  },
  {
   "cell_type": "code",
   "execution_count": 12,
   "metadata": {},
   "outputs": [],
   "source": [
    "#so in our model we have 1 layer in which we have 1 input and 1 output"
   ]
  },
  {
   "cell_type": "code",
   "execution_count": 16,
   "metadata": {},
   "outputs": [
    {
     "name": "stdout",
     "output_type": "stream",
     "text": [
      "Model: \"sequential_1\"\n",
      "_________________________________________________________________\n",
      "Layer (type)                 Output Shape              Param #   \n",
      "=================================================================\n",
      "dense_1 (Dense)              (None, 1)                 2         \n",
      "=================================================================\n",
      "Total params: 2\n",
      "Trainable params: 2\n",
      "Non-trainable params: 0\n",
      "_________________________________________________________________\n"
     ]
    }
   ],
   "source": [
    "model.summary()"
   ]
  },
  {
   "cell_type": "code",
   "execution_count": 17,
   "metadata": {},
   "outputs": [],
   "source": [
    "model.compile(loss=\"mean_squared_error\",optimizer=Adam(learning_rate=0.8))    \n",
    "\n",
    "#at the time for running/compiling we want to use MSE as lossfunction\n",
    "# we are using adam optimiser here\n",
    "# learning rate is the rate of keep on changing weight "
   ]
  },
  {
   "cell_type": "markdown",
   "metadata": {},
   "source": [
    "# model fit or Training"
   ]
  },
  {
   "cell_type": "code",
   "execution_count": 18,
   "metadata": {},
   "outputs": [
    {
     "name": "stdout",
     "output_type": "stream",
     "text": [
      "Epoch 1/20\n",
      "10000/10000 [==============================] - 1s 61us/step - loss: 192.2380\n",
      "Epoch 2/20\n",
      "10000/10000 [==============================] - 1s 50us/step - loss: 183.9613\n",
      "Epoch 3/20\n",
      "10000/10000 [==============================] - 1s 53us/step - loss: 190.3700\n",
      "Epoch 4/20\n",
      "10000/10000 [==============================] - 0s 49us/step - loss: 180.4138\n",
      "Epoch 5/20\n",
      "10000/10000 [==============================] - 1s 55us/step - loss: 182.7257\n",
      "Epoch 6/20\n",
      "10000/10000 [==============================] - 1s 50us/step - loss: 180.9762\n",
      "Epoch 7/20\n",
      "10000/10000 [==============================] - 1s 54us/step - loss: 176.4732\n",
      "Epoch 8/20\n",
      "10000/10000 [==============================] - 1s 51us/step - loss: 185.8900\n",
      "Epoch 9/20\n",
      "10000/10000 [==============================] - 1s 54us/step - loss: 177.1611\n",
      "Epoch 10/20\n",
      "10000/10000 [==============================] - 1s 50us/step - loss: 172.0045\n",
      "Epoch 11/20\n",
      "10000/10000 [==============================] - 1s 52us/step - loss: 181.1701\n",
      "Epoch 12/20\n",
      "10000/10000 [==============================] - ETA: 0s - loss: 175.198 - 0s 50us/step - loss: 176.7916\n",
      "Epoch 13/20\n",
      "10000/10000 [==============================] - 1s 53us/step - loss: 178.5050\n",
      "Epoch 14/20\n",
      "10000/10000 [==============================] - 0s 49us/step - loss: 176.3946\n",
      "Epoch 15/20\n",
      "10000/10000 [==============================] - 1s 56us/step - loss: 173.4948\n",
      "Epoch 16/20\n",
      "10000/10000 [==============================] - 1s 57us/step - loss: 170.6771\n",
      "Epoch 17/20\n",
      "10000/10000 [==============================] - 1s 69us/step - loss: 168.5579\n",
      "Epoch 18/20\n",
      "10000/10000 [==============================] - 1s 53us/step - loss: 206.3002\n",
      "Epoch 19/20\n",
      "10000/10000 [==============================] - 1s 53us/step - loss: 176.4791\n",
      "Epoch 20/20\n",
      "10000/10000 [==============================] - 1s 54us/step - loss: 185.0243\n"
     ]
    },
    {
     "data": {
      "text/plain": [
       "<keras.callbacks.callbacks.History at 0x27cda626f98>"
      ]
     },
     "execution_count": 18,
     "metadata": {},
     "output_type": "execute_result"
    }
   ],
   "source": [
    "model.fit(X,y,epochs=20)\n",
    "\n",
    "#no. of epochs = no.of time running above code for 1 observation"
   ]
  },
  {
   "cell_type": "code",
   "execution_count": 19,
   "metadata": {},
   "outputs": [],
   "source": [
    "#above shows in each epoch what loss we got then we adjusted the weight from 1st epoch and this repeats "
   ]
  },
  {
   "cell_type": "code",
   "execution_count": 20,
   "metadata": {},
   "outputs": [],
   "source": [
    "W,B=model.get_weights()   # to know weight(2d array) and bias(1d array)"
   ]
  },
  {
   "cell_type": "code",
   "execution_count": 21,
   "metadata": {},
   "outputs": [
    {
     "data": {
      "text/plain": [
       "array([[7.750851]], dtype=float32)"
      ]
     },
     "execution_count": 21,
     "metadata": {},
     "output_type": "execute_result"
    }
   ],
   "source": [
    "W   #weight"
   ]
  },
  {
   "cell_type": "code",
   "execution_count": 22,
   "metadata": {},
   "outputs": [
    {
     "data": {
      "text/plain": [
       "array([-348.07196], dtype=float32)"
      ]
     },
     "execution_count": 22,
     "metadata": {},
     "output_type": "execute_result"
    }
   ],
   "source": [
    "B     #bias"
   ]
  },
  {
   "cell_type": "code",
   "execution_count": 23,
   "metadata": {},
   "outputs": [
    {
     "data": {
      "text/plain": [
       "(1, 1)"
      ]
     },
     "execution_count": 23,
     "metadata": {},
     "output_type": "execute_result"
    }
   ],
   "source": [
    "W.shape"
   ]
  },
  {
   "cell_type": "code",
   "execution_count": 24,
   "metadata": {},
   "outputs": [],
   "source": [
    "# reset weight and bias\n",
    "W[0,0]=0.0\n",
    "B[0]=0.0"
   ]
  },
  {
   "cell_type": "code",
   "execution_count": 25,
   "metadata": {},
   "outputs": [],
   "source": [
    "model.set_weights((W,B))  # re setting weight and bias in model"
   ]
  },
  {
   "cell_type": "code",
   "execution_count": 26,
   "metadata": {},
   "outputs": [
    {
     "name": "stdout",
     "output_type": "stream",
     "text": [
      "Epoch 1/50\n",
      "10000/10000 [==============================] - 1s 54us/step - loss: 1075.8524\n",
      "Epoch 2/50\n",
      "10000/10000 [==============================] - 1s 53us/step - loss: 519.3054\n",
      "Epoch 3/50\n",
      "10000/10000 [==============================] - 1s 56us/step - loss: 491.0720: 0s - loss:\n",
      "Epoch 4/50\n",
      "10000/10000 [==============================] - 1s 50us/step - loss: 439.5393\n",
      "Epoch 5/50\n",
      "10000/10000 [==============================] - 1s 66us/step - loss: 405.4033\n",
      "Epoch 6/50\n",
      "10000/10000 [==============================] - 1s 58us/step - loss: 385.8620\n",
      "Epoch 7/50\n",
      "10000/10000 [==============================] - 1s 74us/step - loss: 325.1735\n",
      "Epoch 8/50\n",
      "10000/10000 [==============================] - 1s 63us/step - loss: 298.0993\n",
      "Epoch 9/50\n",
      "10000/10000 [==============================] - 1s 55us/step - loss: 267.6272\n",
      "Epoch 10/50\n",
      "10000/10000 [==============================] - 1s 53us/step - loss: 274.6845\n",
      "Epoch 11/50\n",
      "10000/10000 [==============================] - 1s 53us/step - loss: 248.6699\n",
      "Epoch 12/50\n",
      "10000/10000 [==============================] - 1s 54us/step - loss: 253.9973: 0s - loss: \n",
      "Epoch 13/50\n",
      "10000/10000 [==============================] - 1s 51us/step - loss: 205.6831\n",
      "Epoch 14/50\n",
      "10000/10000 [==============================] - 1s 54us/step - loss: 198.2669\n",
      "Epoch 15/50\n",
      "10000/10000 [==============================] - 1s 54us/step - loss: 210.9663\n",
      "Epoch 16/50\n",
      "10000/10000 [==============================] - 1s 55us/step - loss: 198.8031\n",
      "Epoch 17/50\n",
      "10000/10000 [==============================] - 1s 57us/step - loss: 184.0363\n",
      "Epoch 18/50\n",
      "10000/10000 [==============================] - 1s 56us/step - loss: 185.9950\n",
      "Epoch 19/50\n",
      "10000/10000 [==============================] - 1s 51us/step - loss: 183.8365\n",
      "Epoch 20/50\n",
      "10000/10000 [==============================] - 1s 54us/step - loss: 177.1511\n",
      "Epoch 21/50\n",
      "10000/10000 [==============================] - 1s 55us/step - loss: 182.1073\n",
      "Epoch 22/50\n",
      "10000/10000 [==============================] - 1s 58us/step - loss: 181.9069\n",
      "Epoch 23/50\n",
      "10000/10000 [==============================] - 1s 57us/step - loss: 180.9146\n",
      "Epoch 24/50\n",
      "10000/10000 [==============================] - 1s 52us/step - loss: 182.1851\n",
      "Epoch 25/50\n",
      "10000/10000 [==============================] - 1s 51us/step - loss: 174.8532\n",
      "Epoch 26/50\n",
      "10000/10000 [==============================] - 1s 55us/step - loss: 190.4074\n",
      "Epoch 27/50\n",
      "10000/10000 [==============================] - 1s 58us/step - loss: 187.0370\n",
      "Epoch 28/50\n",
      "10000/10000 [==============================] - 1s 53us/step - loss: 173.3460\n",
      "Epoch 29/50\n",
      "10000/10000 [==============================] - 1s 53us/step - loss: 170.6604\n",
      "Epoch 30/50\n",
      "10000/10000 [==============================] - 1s 56us/step - loss: 174.7131\n",
      "Epoch 31/50\n",
      "10000/10000 [==============================] - 1s 56us/step - loss: 185.2627\n",
      "Epoch 32/50\n",
      "10000/10000 [==============================] - 1s 52us/step - loss: 174.2209\n",
      "Epoch 33/50\n",
      "10000/10000 [==============================] - 1s 52us/step - loss: 184.7456\n",
      "Epoch 34/50\n",
      "10000/10000 [==============================] - 1s 55us/step - loss: 174.1965\n",
      "Epoch 35/50\n",
      "10000/10000 [==============================] - 1s 56us/step - loss: 177.0657\n",
      "Epoch 36/50\n",
      "10000/10000 [==============================] - 1s 64us/step - loss: 177.5618\n",
      "Epoch 37/50\n",
      "10000/10000 [==============================] - 1s 55us/step - loss: 186.4350\n",
      "Epoch 38/50\n",
      "10000/10000 [==============================] - 1s 55us/step - loss: 175.3254\n",
      "Epoch 39/50\n",
      "10000/10000 [==============================] - 1s 58us/step - loss: 182.3070\n",
      "Epoch 40/50\n",
      "10000/10000 [==============================] - 1s 53us/step - loss: 167.8706\n",
      "Epoch 41/50\n",
      "10000/10000 [==============================] - 1s 56us/step - loss: 172.0364\n",
      "Epoch 42/50\n",
      "10000/10000 [==============================] - 1s 55us/step - loss: 176.6944\n",
      "Epoch 43/50\n",
      "10000/10000 [==============================] - 1s 61us/step - loss: 176.8054\n",
      "Epoch 44/50\n",
      "10000/10000 [==============================] - 1s 55us/step - loss: 193.1610\n",
      "Epoch 45/50\n",
      "10000/10000 [==============================] - 1s 60us/step - loss: 173.5705\n",
      "Epoch 46/50\n",
      "10000/10000 [==============================] - 1s 62us/step - loss: 176.2127\n",
      "Epoch 47/50\n",
      "10000/10000 [==============================] - 1s 54us/step - loss: 173.0690\n",
      "Epoch 48/50\n",
      "10000/10000 [==============================] - 1s 57us/step - loss: 179.8604\n",
      "Epoch 49/50\n",
      "10000/10000 [==============================] - 1s 51us/step - loss: 171.8832\n",
      "Epoch 50/50\n",
      "10000/10000 [==============================] - 1s 54us/step - loss: 181.8337\n"
     ]
    },
    {
     "data": {
      "text/plain": [
       "<keras.callbacks.callbacks.History at 0x27cd8553438>"
      ]
     },
     "execution_count": 26,
     "metadata": {},
     "output_type": "execute_result"
    }
   ],
   "source": [
    "model.fit(X,y,epochs=50)\n",
    "\n",
    "#no. of epochs = no.of time running above code for 1 observation"
   ]
  },
  {
   "cell_type": "code",
   "execution_count": 28,
   "metadata": {},
   "outputs": [],
   "source": [
    "# above show that selectthe value of epoch till the value till the loss value keeps decreasing and when the loss value not decrease and becomes variable stop\n",
    "# so for our model epochs=20 is good"
   ]
  },
  {
   "cell_type": "code",
   "execution_count": null,
   "metadata": {},
   "outputs": [],
   "source": []
  },
  {
   "cell_type": "code",
   "execution_count": null,
   "metadata": {},
   "outputs": [],
   "source": []
  }
 ],
 "metadata": {
  "kernelspec": {
   "display_name": "Python 3",
   "language": "python",
   "name": "python3"
  },
  "language_info": {
   "codemirror_mode": {
    "name": "ipython",
    "version": 3
   },
   "file_extension": ".py",
   "mimetype": "text/x-python",
   "name": "python",
   "nbconvert_exporter": "python",
   "pygments_lexer": "ipython3",
   "version": "3.6.10"
  }
 },
 "nbformat": 4,
 "nbformat_minor": 4
}
